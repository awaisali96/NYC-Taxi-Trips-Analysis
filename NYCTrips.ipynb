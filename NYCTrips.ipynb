{
 "cells": [
  {
   "cell_type": "code",
   "execution_count": 1,
   "id": "8eb533ea-83ff-4354-8895-433f22db3a08",
   "metadata": {},
   "outputs": [],
   "source": [
    "import glob\n",
    "import pandas as pd\n",
    "import numpy as np\n",
    "import seaborn as sns\n",
    "from sklearn.model_selection import train_test_split, cross_validate, GridSearchCV\n",
    "from sklearn.linear_model import LogisticRegression\n",
    "from sklearn.pipeline import Pipeline\n",
    "from sklearn.svm import SVC\n",
    "from sklearn.neighbors import KNeighborsClassifier\n",
    "from sklearn.tree import DecisionTreeClassifier\n",
    "from sklearn.preprocessing import StandardScaler\n",
    "from sklearn.ensemble import RandomForestClassifier, GradientBoostingClassifier\n",
    "from sklearn import metrics\n",
    "import matplotlib.pyplot as plt"
   ]
  },
  {
   "cell_type": "code",
   "execution_count": 2,
   "id": "5e664dd4-8b3c-42bd-b8bd-3ef131288951",
   "metadata": {},
   "outputs": [
    {
     "name": "stderr",
     "output_type": "stream",
     "text": [
      "C:\\Users\\awais\\anaconda3\\lib\\site-packages\\IPython\\core\\interactiveshell.py:3444: DtypeWarning: Columns (3) have mixed types.Specify dtype option on import or set low_memory=False.\n",
      "  exec(code_obj, self.user_global_ns, self.user_ns)\n"
     ]
    }
   ],
   "source": [
    "# There are 4 Taxi NYC Trips datasets in my local directory, we are going to iterate through that directory and join it all into a big df\n",
    "path = r'C://Users//awais//OneDrive//Desktop//Data Science//Maven Analytics//taxi_trips'\n",
    "filenames = glob.glob(path + \"//*.csv\")\n",
    "\n",
    "dfs = []\n",
    "for filename in filenames:\n",
    "    dfs.append(pd.read_csv(filename))\n",
    "\n",
    "# Concatenate all data into one DataFrame\n",
    "big_frame = pd.concat(dfs, ignore_index=True)"
   ]
  },
  {
   "cell_type": "code",
   "execution_count": 3,
   "id": "d0c0408e-e44e-493e-9586-b6744f39b973",
   "metadata": {},
   "outputs": [
    {
     "data": {
      "text/html": [
       "<div>\n",
       "<style scoped>\n",
       "    .dataframe tbody tr th:only-of-type {\n",
       "        vertical-align: middle;\n",
       "    }\n",
       "\n",
       "    .dataframe tbody tr th {\n",
       "        vertical-align: top;\n",
       "    }\n",
       "\n",
       "    .dataframe thead th {\n",
       "        text-align: right;\n",
       "    }\n",
       "</style>\n",
       "<table border=\"1\" class=\"dataframe\">\n",
       "  <thead>\n",
       "    <tr style=\"text-align: right;\">\n",
       "      <th></th>\n",
       "      <th>VendorID</th>\n",
       "      <th>lpep_pickup_datetime</th>\n",
       "      <th>lpep_dropoff_datetime</th>\n",
       "      <th>store_and_fwd_flag</th>\n",
       "      <th>RatecodeID</th>\n",
       "      <th>PULocationID</th>\n",
       "      <th>DOLocationID</th>\n",
       "      <th>passenger_count</th>\n",
       "      <th>trip_distance</th>\n",
       "      <th>fare_amount</th>\n",
       "      <th>extra</th>\n",
       "      <th>mta_tax</th>\n",
       "      <th>tip_amount</th>\n",
       "      <th>tolls_amount</th>\n",
       "      <th>improvement_surcharge</th>\n",
       "      <th>total_amount</th>\n",
       "      <th>payment_type</th>\n",
       "      <th>trip_type</th>\n",
       "      <th>congestion_surcharge</th>\n",
       "    </tr>\n",
       "  </thead>\n",
       "  <tbody>\n",
       "    <tr>\n",
       "      <th>0</th>\n",
       "      <td>1.0</td>\n",
       "      <td>2017-01-01 09:00:01.000</td>\n",
       "      <td>2017-01-01 09:03:56.000</td>\n",
       "      <td>N</td>\n",
       "      <td>1.0</td>\n",
       "      <td>74</td>\n",
       "      <td>41</td>\n",
       "      <td>1.0</td>\n",
       "      <td>0.7</td>\n",
       "      <td>5.0</td>\n",
       "      <td>0.0</td>\n",
       "      <td>0.5</td>\n",
       "      <td>0.0</td>\n",
       "      <td>0.0</td>\n",
       "      <td>0.3</td>\n",
       "      <td>5.8</td>\n",
       "      <td>2.0</td>\n",
       "      <td>1.0</td>\n",
       "      <td>NaN</td>\n",
       "    </tr>\n",
       "    <tr>\n",
       "      <th>1</th>\n",
       "      <td>1.0</td>\n",
       "      <td>2017-01-01 18:57:55.000</td>\n",
       "      <td>2017-01-01 19:01:16.000</td>\n",
       "      <td>N</td>\n",
       "      <td>1.0</td>\n",
       "      <td>42</td>\n",
       "      <td>41</td>\n",
       "      <td>1.0</td>\n",
       "      <td>0.7</td>\n",
       "      <td>5.0</td>\n",
       "      <td>0.0</td>\n",
       "      <td>0.5</td>\n",
       "      <td>0.0</td>\n",
       "      <td>0.0</td>\n",
       "      <td>0.3</td>\n",
       "      <td>5.8</td>\n",
       "      <td>2.0</td>\n",
       "      <td>1.0</td>\n",
       "      <td>NaN</td>\n",
       "    </tr>\n",
       "    <tr>\n",
       "      <th>2</th>\n",
       "      <td>2.0</td>\n",
       "      <td>2017-01-02 06:55:47.000</td>\n",
       "      <td>2017-01-02 06:58:54.000</td>\n",
       "      <td>N</td>\n",
       "      <td>1.0</td>\n",
       "      <td>42</td>\n",
       "      <td>41</td>\n",
       "      <td>1.0</td>\n",
       "      <td>0.7</td>\n",
       "      <td>5.0</td>\n",
       "      <td>0.0</td>\n",
       "      <td>0.5</td>\n",
       "      <td>0.0</td>\n",
       "      <td>0.0</td>\n",
       "      <td>0.3</td>\n",
       "      <td>5.8</td>\n",
       "      <td>2.0</td>\n",
       "      <td>1.0</td>\n",
       "      <td>NaN</td>\n",
       "    </tr>\n",
       "    <tr>\n",
       "      <th>3</th>\n",
       "      <td>2.0</td>\n",
       "      <td>2017-01-02 14:34:17.000</td>\n",
       "      <td>2017-01-02 14:39:29.000</td>\n",
       "      <td>N</td>\n",
       "      <td>1.0</td>\n",
       "      <td>74</td>\n",
       "      <td>41</td>\n",
       "      <td>1.0</td>\n",
       "      <td>0.7</td>\n",
       "      <td>5.0</td>\n",
       "      <td>0.0</td>\n",
       "      <td>0.5</td>\n",
       "      <td>0.0</td>\n",
       "      <td>0.0</td>\n",
       "      <td>0.3</td>\n",
       "      <td>5.8</td>\n",
       "      <td>2.0</td>\n",
       "      <td>1.0</td>\n",
       "      <td>NaN</td>\n",
       "    </tr>\n",
       "    <tr>\n",
       "      <th>4</th>\n",
       "      <td>1.0</td>\n",
       "      <td>2017-01-03 06:12:30.000</td>\n",
       "      <td>2017-01-03 06:15:56.000</td>\n",
       "      <td>N</td>\n",
       "      <td>1.0</td>\n",
       "      <td>42</td>\n",
       "      <td>41</td>\n",
       "      <td>1.0</td>\n",
       "      <td>0.7</td>\n",
       "      <td>5.0</td>\n",
       "      <td>0.0</td>\n",
       "      <td>0.5</td>\n",
       "      <td>0.0</td>\n",
       "      <td>0.0</td>\n",
       "      <td>0.3</td>\n",
       "      <td>5.8</td>\n",
       "      <td>2.0</td>\n",
       "      <td>1.0</td>\n",
       "      <td>NaN</td>\n",
       "    </tr>\n",
       "  </tbody>\n",
       "</table>\n",
       "</div>"
      ],
      "text/plain": [
       "   VendorID     lpep_pickup_datetime    lpep_dropoff_datetime  \\\n",
       "0       1.0  2017-01-01 09:00:01.000  2017-01-01 09:03:56.000   \n",
       "1       1.0  2017-01-01 18:57:55.000  2017-01-01 19:01:16.000   \n",
       "2       2.0  2017-01-02 06:55:47.000  2017-01-02 06:58:54.000   \n",
       "3       2.0  2017-01-02 14:34:17.000  2017-01-02 14:39:29.000   \n",
       "4       1.0  2017-01-03 06:12:30.000  2017-01-03 06:15:56.000   \n",
       "\n",
       "  store_and_fwd_flag  RatecodeID  PULocationID  DOLocationID  passenger_count  \\\n",
       "0                  N         1.0            74            41              1.0   \n",
       "1                  N         1.0            42            41              1.0   \n",
       "2                  N         1.0            42            41              1.0   \n",
       "3                  N         1.0            74            41              1.0   \n",
       "4                  N         1.0            42            41              1.0   \n",
       "\n",
       "   trip_distance  fare_amount  extra  mta_tax  tip_amount  tolls_amount  \\\n",
       "0            0.7          5.0    0.0      0.5         0.0           0.0   \n",
       "1            0.7          5.0    0.0      0.5         0.0           0.0   \n",
       "2            0.7          5.0    0.0      0.5         0.0           0.0   \n",
       "3            0.7          5.0    0.0      0.5         0.0           0.0   \n",
       "4            0.7          5.0    0.0      0.5         0.0           0.0   \n",
       "\n",
       "   improvement_surcharge  total_amount  payment_type  trip_type  \\\n",
       "0                    0.3           5.8           2.0        1.0   \n",
       "1                    0.3           5.8           2.0        1.0   \n",
       "2                    0.3           5.8           2.0        1.0   \n",
       "3                    0.3           5.8           2.0        1.0   \n",
       "4                    0.3           5.8           2.0        1.0   \n",
       "\n",
       "   congestion_surcharge  \n",
       "0                   NaN  \n",
       "1                   NaN  \n",
       "2                   NaN  \n",
       "3                   NaN  \n",
       "4                   NaN  "
      ]
     },
     "execution_count": 3,
     "metadata": {},
     "output_type": "execute_result"
    }
   ],
   "source": [
    "big_frame.head(5)"
   ]
  },
  {
   "cell_type": "code",
   "execution_count": 4,
   "id": "16c47b6b-c8b1-453a-9883-425c3c86853f",
   "metadata": {},
   "outputs": [
    {
     "data": {
      "text/plain": [
       "VendorID                 float64\n",
       "lpep_pickup_datetime      object\n",
       "lpep_dropoff_datetime     object\n",
       "store_and_fwd_flag        object\n",
       "RatecodeID               float64\n",
       "PULocationID               int64\n",
       "DOLocationID               int64\n",
       "passenger_count          float64\n",
       "trip_distance            float64\n",
       "fare_amount              float64\n",
       "extra                    float64\n",
       "mta_tax                  float64\n",
       "tip_amount               float64\n",
       "tolls_amount             float64\n",
       "improvement_surcharge    float64\n",
       "total_amount             float64\n",
       "payment_type             float64\n",
       "trip_type                float64\n",
       "congestion_surcharge     float64\n",
       "dtype: object"
      ]
     },
     "execution_count": 4,
     "metadata": {},
     "output_type": "execute_result"
    }
   ],
   "source": [
    "#Lets have a look at data types\n",
    "big_frame.dtypes"
   ]
  },
  {
   "cell_type": "code",
   "execution_count": 5,
   "id": "bfc3aa51-e849-49b7-b5e5-3bf29a6076b4",
   "metadata": {},
   "outputs": [
    {
     "data": {
      "text/plain": [
       "VendorID                        2\n",
       "lpep_pickup_datetime     23288282\n",
       "lpep_dropoff_datetime    23257942\n",
       "store_and_fwd_flag              2\n",
       "RatecodeID                      7\n",
       "PULocationID                  262\n",
       "DOLocationID                  263\n",
       "passenger_count                10\n",
       "trip_distance                8314\n",
       "fare_amount                 10758\n",
       "extra                         110\n",
       "mta_tax                        29\n",
       "tip_amount                   4165\n",
       "tolls_amount                 1346\n",
       "improvement_surcharge          12\n",
       "total_amount                16257\n",
       "payment_type                    5\n",
       "trip_type                       2\n",
       "congestion_surcharge            9\n",
       "dtype: int64"
      ]
     },
     "execution_count": 5,
     "metadata": {},
     "output_type": "execute_result"
    }
   ],
   "source": [
    "#Looking at the unique values for each feature\n",
    "big_frame.nunique()"
   ]
  },
  {
   "cell_type": "code",
   "execution_count": 6,
   "id": "fd70b3f3-9389-4337-8e65-047dd90b8031",
   "metadata": {},
   "outputs": [
    {
     "data": {
      "text/plain": [
       "VendorID                   942199\n",
       "lpep_pickup_datetime            0\n",
       "lpep_dropoff_datetime           0\n",
       "store_and_fwd_flag         942199\n",
       "RatecodeID                 942199\n",
       "PULocationID                    0\n",
       "DOLocationID                    0\n",
       "passenger_count            942199\n",
       "trip_distance                   0\n",
       "fare_amount                     0\n",
       "extra                           0\n",
       "mta_tax                         0\n",
       "tip_amount                      0\n",
       "tolls_amount                    0\n",
       "improvement_surcharge           2\n",
       "total_amount                    0\n",
       "payment_type               942199\n",
       "trip_type                  942653\n",
       "congestion_surcharge     22036551\n",
       "dtype: int64"
      ]
     },
     "execution_count": 6,
     "metadata": {},
     "output_type": "execute_result"
    }
   ],
   "source": [
    "#As you can see, there are some missing values\n",
    "big_frame.isnull().sum()"
   ]
  },
  {
   "cell_type": "code",
   "execution_count": 7,
   "id": "6763bb17-2807-480c-a175-f09c418d83c6",
   "metadata": {},
   "outputs": [
    {
     "data": {
      "text/html": [
       "<div>\n",
       "<style scoped>\n",
       "    .dataframe tbody tr th:only-of-type {\n",
       "        vertical-align: middle;\n",
       "    }\n",
       "\n",
       "    .dataframe tbody tr th {\n",
       "        vertical-align: top;\n",
       "    }\n",
       "\n",
       "    .dataframe thead th {\n",
       "        text-align: right;\n",
       "    }\n",
       "</style>\n",
       "<table border=\"1\" class=\"dataframe\">\n",
       "  <thead>\n",
       "    <tr style=\"text-align: right;\">\n",
       "      <th></th>\n",
       "      <th>VendorID</th>\n",
       "      <th>RatecodeID</th>\n",
       "      <th>PULocationID</th>\n",
       "      <th>DOLocationID</th>\n",
       "      <th>passenger_count</th>\n",
       "      <th>trip_distance</th>\n",
       "      <th>fare_amount</th>\n",
       "      <th>extra</th>\n",
       "      <th>mta_tax</th>\n",
       "      <th>tip_amount</th>\n",
       "      <th>tolls_amount</th>\n",
       "      <th>improvement_surcharge</th>\n",
       "      <th>total_amount</th>\n",
       "      <th>payment_type</th>\n",
       "      <th>trip_type</th>\n",
       "      <th>congestion_surcharge</th>\n",
       "    </tr>\n",
       "  </thead>\n",
       "  <tbody>\n",
       "    <tr>\n",
       "      <th>count</th>\n",
       "      <td>27,383,872.00</td>\n",
       "      <td>27,383,872.00</td>\n",
       "      <td>28,326,071.00</td>\n",
       "      <td>28,326,071.00</td>\n",
       "      <td>27,383,872.00</td>\n",
       "      <td>28,326,071.00</td>\n",
       "      <td>28,326,071.00</td>\n",
       "      <td>28,326,071.00</td>\n",
       "      <td>28,326,071.00</td>\n",
       "      <td>28,326,071.00</td>\n",
       "      <td>28,326,071.00</td>\n",
       "      <td>28,326,069.00</td>\n",
       "      <td>28,326,071.00</td>\n",
       "      <td>27,383,872.00</td>\n",
       "      <td>27,383,418.00</td>\n",
       "      <td>6,289,520.00</td>\n",
       "    </tr>\n",
       "    <tr>\n",
       "      <th>mean</th>\n",
       "      <td>1.82</td>\n",
       "      <td>1.11</td>\n",
       "      <td>110.59</td>\n",
       "      <td>129.01</td>\n",
       "      <td>1.35</td>\n",
       "      <td>3.87</td>\n",
       "      <td>13.18</td>\n",
       "      <td>0.40</td>\n",
       "      <td>0.48</td>\n",
       "      <td>1.08</td>\n",
       "      <td>0.18</td>\n",
       "      <td>0.29</td>\n",
       "      <td>15.72</td>\n",
       "      <td>1.47</td>\n",
       "      <td>1.03</td>\n",
       "      <td>0.42</td>\n",
       "    </tr>\n",
       "    <tr>\n",
       "      <th>std</th>\n",
       "      <td>0.38</td>\n",
       "      <td>0.70</td>\n",
       "      <td>74.16</td>\n",
       "      <td>76.88</td>\n",
       "      <td>1.02</td>\n",
       "      <td>296.91</td>\n",
       "      <td>11.87</td>\n",
       "      <td>0.57</td>\n",
       "      <td>0.11</td>\n",
       "      <td>2.09</td>\n",
       "      <td>1.99</td>\n",
       "      <td>0.06</td>\n",
       "      <td>13.22</td>\n",
       "      <td>0.52</td>\n",
       "      <td>0.16</td>\n",
       "      <td>0.98</td>\n",
       "    </tr>\n",
       "    <tr>\n",
       "      <th>min</th>\n",
       "      <td>1.00</td>\n",
       "      <td>1.00</td>\n",
       "      <td>1.00</td>\n",
       "      <td>1.00</td>\n",
       "      <td>0.00</td>\n",
       "      <td>-20,329.08</td>\n",
       "      <td>-890.00</td>\n",
       "      <td>-25.42</td>\n",
       "      <td>-0.50</td>\n",
       "      <td>-101.00</td>\n",
       "      <td>-80.00</td>\n",
       "      <td>-0.30</td>\n",
       "      <td>-890.30</td>\n",
       "      <td>1.00</td>\n",
       "      <td>1.00</td>\n",
       "      <td>-2.75</td>\n",
       "    </tr>\n",
       "    <tr>\n",
       "      <th>25%</th>\n",
       "      <td>2.00</td>\n",
       "      <td>1.00</td>\n",
       "      <td>49.00</td>\n",
       "      <td>62.00</td>\n",
       "      <td>1.00</td>\n",
       "      <td>1.03</td>\n",
       "      <td>6.50</td>\n",
       "      <td>0.00</td>\n",
       "      <td>0.50</td>\n",
       "      <td>0.00</td>\n",
       "      <td>0.00</td>\n",
       "      <td>0.30</td>\n",
       "      <td>8.30</td>\n",
       "      <td>1.00</td>\n",
       "      <td>1.00</td>\n",
       "      <td>0.00</td>\n",
       "    </tr>\n",
       "    <tr>\n",
       "      <th>50%</th>\n",
       "      <td>2.00</td>\n",
       "      <td>1.00</td>\n",
       "      <td>82.00</td>\n",
       "      <td>129.00</td>\n",
       "      <td>1.00</td>\n",
       "      <td>1.86</td>\n",
       "      <td>9.50</td>\n",
       "      <td>0.00</td>\n",
       "      <td>0.50</td>\n",
       "      <td>0.00</td>\n",
       "      <td>0.00</td>\n",
       "      <td>0.30</td>\n",
       "      <td>11.80</td>\n",
       "      <td>1.00</td>\n",
       "      <td>1.00</td>\n",
       "      <td>0.00</td>\n",
       "    </tr>\n",
       "    <tr>\n",
       "      <th>75%</th>\n",
       "      <td>2.00</td>\n",
       "      <td>1.00</td>\n",
       "      <td>166.00</td>\n",
       "      <td>193.00</td>\n",
       "      <td>1.00</td>\n",
       "      <td>3.66</td>\n",
       "      <td>16.00</td>\n",
       "      <td>0.50</td>\n",
       "      <td>0.50</td>\n",
       "      <td>1.86</td>\n",
       "      <td>0.00</td>\n",
       "      <td>0.30</td>\n",
       "      <td>18.80</td>\n",
       "      <td>2.00</td>\n",
       "      <td>1.00</td>\n",
       "      <td>0.00</td>\n",
       "    </tr>\n",
       "    <tr>\n",
       "      <th>max</th>\n",
       "      <td>2.00</td>\n",
       "      <td>99.00</td>\n",
       "      <td>265.00</td>\n",
       "      <td>265.00</td>\n",
       "      <td>9.00</td>\n",
       "      <td>205,654.12</td>\n",
       "      <td>10,445.84</td>\n",
       "      <td>30.00</td>\n",
       "      <td>82.91</td>\n",
       "      <td>641.20</td>\n",
       "      <td>7,999.92</td>\n",
       "      <td>0.47</td>\n",
       "      <td>10,528.75</td>\n",
       "      <td>5.00</td>\n",
       "      <td>2.00</td>\n",
       "      <td>2.75</td>\n",
       "    </tr>\n",
       "  </tbody>\n",
       "</table>\n",
       "</div>"
      ],
      "text/plain": [
       "           VendorID    RatecodeID  PULocationID  DOLocationID  \\\n",
       "count 27,383,872.00 27,383,872.00 28,326,071.00 28,326,071.00   \n",
       "mean           1.82          1.11        110.59        129.01   \n",
       "std            0.38          0.70         74.16         76.88   \n",
       "min            1.00          1.00          1.00          1.00   \n",
       "25%            2.00          1.00         49.00         62.00   \n",
       "50%            2.00          1.00         82.00        129.00   \n",
       "75%            2.00          1.00        166.00        193.00   \n",
       "max            2.00         99.00        265.00        265.00   \n",
       "\n",
       "       passenger_count  trip_distance   fare_amount         extra  \\\n",
       "count    27,383,872.00  28,326,071.00 28,326,071.00 28,326,071.00   \n",
       "mean              1.35           3.87         13.18          0.40   \n",
       "std               1.02         296.91         11.87          0.57   \n",
       "min               0.00     -20,329.08       -890.00        -25.42   \n",
       "25%               1.00           1.03          6.50          0.00   \n",
       "50%               1.00           1.86          9.50          0.00   \n",
       "75%               1.00           3.66         16.00          0.50   \n",
       "max               9.00     205,654.12     10,445.84         30.00   \n",
       "\n",
       "            mta_tax    tip_amount  tolls_amount  improvement_surcharge  \\\n",
       "count 28,326,071.00 28,326,071.00 28,326,071.00          28,326,069.00   \n",
       "mean           0.48          1.08          0.18                   0.29   \n",
       "std            0.11          2.09          1.99                   0.06   \n",
       "min           -0.50       -101.00        -80.00                  -0.30   \n",
       "25%            0.50          0.00          0.00                   0.30   \n",
       "50%            0.50          0.00          0.00                   0.30   \n",
       "75%            0.50          1.86          0.00                   0.30   \n",
       "max           82.91        641.20      7,999.92                   0.47   \n",
       "\n",
       "       total_amount  payment_type     trip_type  congestion_surcharge  \n",
       "count 28,326,071.00 27,383,872.00 27,383,418.00          6,289,520.00  \n",
       "mean          15.72          1.47          1.03                  0.42  \n",
       "std           13.22          0.52          0.16                  0.98  \n",
       "min         -890.30          1.00          1.00                 -2.75  \n",
       "25%            8.30          1.00          1.00                  0.00  \n",
       "50%           11.80          1.00          1.00                  0.00  \n",
       "75%           18.80          2.00          1.00                  0.00  \n",
       "max       10,528.75          5.00          2.00                  2.75  "
      ]
     },
     "execution_count": 7,
     "metadata": {},
     "output_type": "execute_result"
    }
   ],
   "source": [
    "pd.options.display.float_format = \"{:,.2f}\".format\n",
    "big_frame.describe()\n",
    "#Weirdly enough the trip_distance and fare_amount shows negative values, which is most likely the wrong data entry so lets explore that further"
   ]
  },
  {
   "cell_type": "code",
   "execution_count": 8,
   "id": "c9904c94-c5df-4c67-bddd-3a6ca7ed48de",
   "metadata": {},
   "outputs": [
    {
     "data": {
      "text/plain": [
       "<AxesSubplot:>"
      ]
     },
     "execution_count": 8,
     "metadata": {},
     "output_type": "execute_result"
    },
    {
     "data": {
      "image/png": "[encoded data removed]",
      "text/plain": [
       "<Figure size 432x288 with 1 Axes>"
      ]
     },
     "metadata": {
      "needs_background": "light"
     },
     "output_type": "display_data"
    }
   ],
   "source": [
    "big_frame.boxplot(column=['trip_distance'], grid=False)"
   ]
  },
  {
   "cell_type": "code",
   "execution_count": 9,
   "id": "1e6f34ea-c191-4e79-b5d9-5c693ff4028c",
   "metadata": {},
   "outputs": [
    {
     "data": {
      "text/plain": [
       "19487"
      ]
     },
     "execution_count": 9,
     "metadata": {},
     "output_type": "execute_result"
    }
   ],
   "source": [
    "# Lets see how many trip distances are below 0\n",
    "big_frame[big_frame['trip_distance']<0].shape[0]"
   ]
  },
  {
   "cell_type": "code",
   "execution_count": 10,
   "id": "3359bf71-9bf9-45ca-9260-1cb991e95246",
   "metadata": {},
   "outputs": [
    {
     "data": {
      "text/plain": [
       "73792"
      ]
     },
     "execution_count": 10,
     "metadata": {},
     "output_type": "execute_result"
    }
   ],
   "source": [
    "# Lets see how many fare_amounts are below 0\n",
    "big_frame[big_frame['fare_amount']<0].shape[0]"
   ]
  },
  {
   "cell_type": "code",
   "execution_count": 11,
   "id": "790068d0-fdc3-4b13-b704-0ec38de8f73f",
   "metadata": {},
   "outputs": [],
   "source": [
    "# Lets remove those data points as a negative trip_distance or fare_amount is most likely a false data input\n",
    "big_frame = big_frame[big_frame['fare_amount']>0]\n",
    "big_frame = big_frame[big_frame['trip_distance']>0]"
   ]
  },
  {
   "cell_type": "code",
   "execution_count": 12,
   "id": "427555a7-2353-4e96-af39-e69022b685b2",
   "metadata": {},
   "outputs": [
    {
     "data": {
      "text/plain": [
       "434.6977163203225"
      ]
     },
     "execution_count": 12,
     "metadata": {},
     "output_type": "execute_result"
    }
   ],
   "source": [
    "#It seems that the trip_distance may be right-skewed with a long tail of very long distances, to confirm this lets determine the skewness of the feature\n",
    "big_frame['trip_distance'].skew()\n",
    "#As seen with the value of 434, the data is right skewed to an extreme extent"
   ]
  },
  {
   "cell_type": "code",
   "execution_count": 13,
   "id": "78676517-67b5-4b0c-8b4d-349791717bc8",
   "metadata": {},
   "outputs": [],
   "source": [
    "#Lets try to remove the top 1% of trip_distance values to reduce the skew\n",
    "big_frame = big_frame[(big_frame['trip_distance'] < big_frame['trip_distance'].quantile(0.99))]"
   ]
  },
  {
   "cell_type": "code",
   "execution_count": 14,
   "id": "c38dd808-7d76-4f65-a301-a739855da4d8",
   "metadata": {},
   "outputs": [
    {
     "data": {
      "text/plain": [
       "2.198071297436475"
      ]
     },
     "execution_count": 14,
     "metadata": {},
     "output_type": "execute_result"
    }
   ],
   "source": [
    "#Fare amount Skew is a lot better now, altough it is still right-skewed\n",
    "big_frame['trip_distance'].skew()"
   ]
  },
  {
   "cell_type": "code",
   "execution_count": 15,
   "id": "55f2d008-8b84-4ed2-aa5c-60a0eeeca8a1",
   "metadata": {},
   "outputs": [],
   "source": [
    "#Lets try to remove the top 1% of fare_amounts values to reduce the skew\n",
    "big_frame = big_frame[(big_frame['fare_amount'] < big_frame['fare_amount'].quantile(0.99))]"
   ]
  },
  {
   "cell_type": "code",
   "execution_count": 16,
   "id": "e8511da6-6528-44b3-b0e3-e11202229104",
   "metadata": {},
   "outputs": [
    {
     "data": {
      "text/plain": [
       "1.6310627344873283"
      ]
     },
     "execution_count": 16,
     "metadata": {},
     "output_type": "execute_result"
    }
   ],
   "source": [
    "#Trip distance Skew is a lot better now, altough it is still right-skewed\n",
    "big_frame['fare_amount'].skew()"
   ]
  },
  {
   "cell_type": "code",
   "execution_count": 17,
   "id": "8a201234-6dd3-4aaf-aaa4-769b4c2947cf",
   "metadata": {},
   "outputs": [
    {
     "data": {
      "text/plain": [
       "(27210708, 19)"
      ]
     },
     "execution_count": 17,
     "metadata": {},
     "output_type": "execute_result"
    }
   ],
   "source": [
    "big_frame.shape"
   ]
  },
  {
   "cell_type": "code",
   "execution_count": 18,
   "id": "6e387628-befa-49b7-af30-e54bb2899979",
   "metadata": {},
   "outputs": [],
   "source": [
    "#For ease of intepretation, lets rename some categorical variables from numeric to text\n",
    "# We will do the following transformation for payment_type: (1= Credit card; 2= Cash; 3= No charge; 4= Dispute; 5= Unknown; 6= Voided trip)\n",
    "# We will do the following transformation for trip_type: (1= Street-hail; 2= Dispatch)\n",
    "# We will do the following transformation for RateCodeID: (1= Standard rate; 2= JFK; 3= Newark; 4= Nassau or Westchester; 5= Negotiated fare; 6= Group ride)\n",
    "\n",
    "big_frame['trip_type'] = big_frame['trip_type'].astype('category').cat.rename_categories({1:'Street-hail',2:'Dispatch'})\n",
    "big_frame['payment_type'] = big_frame['payment_type'].astype('category').cat.rename_categories({1:'Credit Card',2:'Cash',3:'No Charge',4:'Dispute',5:'Unknown',6:'Voided trip'})\n",
    "big_frame['RatecodeID'] = big_frame['RatecodeID'].astype('category').cat.rename_categories({1:'Standard rate',2:'JFK',3:'Newark',4:'Nassau or Westchester',5:'Negotiated fare',6:'Group ride'})"
   ]
  },
  {
   "cell_type": "code",
   "execution_count": 19,
   "id": "0673e179-0755-4a0e-8db0-6b0995178c8f",
   "metadata": {},
   "outputs": [
    {
     "data": {
      "text/html": [
       "<div>\n",
       "<style scoped>\n",
       "    .dataframe tbody tr th:only-of-type {\n",
       "        vertical-align: middle;\n",
       "    }\n",
       "\n",
       "    .dataframe tbody tr th {\n",
       "        vertical-align: top;\n",
       "    }\n",
       "\n",
       "    .dataframe thead th {\n",
       "        text-align: right;\n",
       "    }\n",
       "</style>\n",
       "<table border=\"1\" class=\"dataframe\">\n",
       "  <thead>\n",
       "    <tr style=\"text-align: right;\">\n",
       "      <th></th>\n",
       "      <th>VendorID</th>\n",
       "      <th>lpep_pickup_datetime</th>\n",
       "      <th>lpep_dropoff_datetime</th>\n",
       "      <th>store_and_fwd_flag</th>\n",
       "      <th>RatecodeID</th>\n",
       "      <th>PULocationID</th>\n",
       "      <th>DOLocationID</th>\n",
       "      <th>passenger_count</th>\n",
       "      <th>trip_distance</th>\n",
       "      <th>fare_amount</th>\n",
       "      <th>extra</th>\n",
       "      <th>mta_tax</th>\n",
       "      <th>tip_amount</th>\n",
       "      <th>tolls_amount</th>\n",
       "      <th>improvement_surcharge</th>\n",
       "      <th>total_amount</th>\n",
       "      <th>payment_type</th>\n",
       "      <th>trip_type</th>\n",
       "      <th>congestion_surcharge</th>\n",
       "    </tr>\n",
       "  </thead>\n",
       "  <tbody>\n",
       "    <tr>\n",
       "      <th>0</th>\n",
       "      <td>1.00</td>\n",
       "      <td>2017-01-01 09:00:01.000</td>\n",
       "      <td>2017-01-01 09:03:56.000</td>\n",
       "      <td>N</td>\n",
       "      <td>Standard rate</td>\n",
       "      <td>74</td>\n",
       "      <td>41</td>\n",
       "      <td>1.00</td>\n",
       "      <td>0.70</td>\n",
       "      <td>5.00</td>\n",
       "      <td>0.00</td>\n",
       "      <td>0.50</td>\n",
       "      <td>0.00</td>\n",
       "      <td>0.00</td>\n",
       "      <td>0.30</td>\n",
       "      <td>5.80</td>\n",
       "      <td>Cash</td>\n",
       "      <td>Street-hail</td>\n",
       "      <td>NaN</td>\n",
       "    </tr>\n",
       "    <tr>\n",
       "      <th>1</th>\n",
       "      <td>1.00</td>\n",
       "      <td>2017-01-01 18:57:55.000</td>\n",
       "      <td>2017-01-01 19:01:16.000</td>\n",
       "      <td>N</td>\n",
       "      <td>Standard rate</td>\n",
       "      <td>42</td>\n",
       "      <td>41</td>\n",
       "      <td>1.00</td>\n",
       "      <td>0.70</td>\n",
       "      <td>5.00</td>\n",
       "      <td>0.00</td>\n",
       "      <td>0.50</td>\n",
       "      <td>0.00</td>\n",
       "      <td>0.00</td>\n",
       "      <td>0.30</td>\n",
       "      <td>5.80</td>\n",
       "      <td>Cash</td>\n",
       "      <td>Street-hail</td>\n",
       "      <td>NaN</td>\n",
       "    </tr>\n",
       "    <tr>\n",
       "      <th>2</th>\n",
       "      <td>2.00</td>\n",
       "      <td>2017-01-02 06:55:47.000</td>\n",
       "      <td>2017-01-02 06:58:54.000</td>\n",
       "      <td>N</td>\n",
       "      <td>Standard rate</td>\n",
       "      <td>42</td>\n",
       "      <td>41</td>\n",
       "      <td>1.00</td>\n",
       "      <td>0.70</td>\n",
       "      <td>5.00</td>\n",
       "      <td>0.00</td>\n",
       "      <td>0.50</td>\n",
       "      <td>0.00</td>\n",
       "      <td>0.00</td>\n",
       "      <td>0.30</td>\n",
       "      <td>5.80</td>\n",
       "      <td>Cash</td>\n",
       "      <td>Street-hail</td>\n",
       "      <td>NaN</td>\n",
       "    </tr>\n",
       "    <tr>\n",
       "      <th>3</th>\n",
       "      <td>2.00</td>\n",
       "      <td>2017-01-02 14:34:17.000</td>\n",
       "      <td>2017-01-02 14:39:29.000</td>\n",
       "      <td>N</td>\n",
       "      <td>Standard rate</td>\n",
       "      <td>74</td>\n",
       "      <td>41</td>\n",
       "      <td>1.00</td>\n",
       "      <td>0.70</td>\n",
       "      <td>5.00</td>\n",
       "      <td>0.00</td>\n",
       "      <td>0.50</td>\n",
       "      <td>0.00</td>\n",
       "      <td>0.00</td>\n",
       "      <td>0.30</td>\n",
       "      <td>5.80</td>\n",
       "      <td>Cash</td>\n",
       "      <td>Street-hail</td>\n",
       "      <td>NaN</td>\n",
       "    </tr>\n",
       "    <tr>\n",
       "      <th>4</th>\n",
       "      <td>1.00</td>\n",
       "      <td>2017-01-03 06:12:30.000</td>\n",
       "      <td>2017-01-03 06:15:56.000</td>\n",
       "      <td>N</td>\n",
       "      <td>Standard rate</td>\n",
       "      <td>42</td>\n",
       "      <td>41</td>\n",
       "      <td>1.00</td>\n",
       "      <td>0.70</td>\n",
       "      <td>5.00</td>\n",
       "      <td>0.00</td>\n",
       "      <td>0.50</td>\n",
       "      <td>0.00</td>\n",
       "      <td>0.00</td>\n",
       "      <td>0.30</td>\n",
       "      <td>5.80</td>\n",
       "      <td>Cash</td>\n",
       "      <td>Street-hail</td>\n",
       "      <td>NaN</td>\n",
       "    </tr>\n",
       "  </tbody>\n",
       "</table>\n",
       "</div>"
      ],
      "text/plain": [
       "   VendorID     lpep_pickup_datetime    lpep_dropoff_datetime  \\\n",
       "0      1.00  2017-01-01 09:00:01.000  2017-01-01 09:03:56.000   \n",
       "1      1.00  2017-01-01 18:57:55.000  2017-01-01 19:01:16.000   \n",
       "2      2.00  2017-01-02 06:55:47.000  2017-01-02 06:58:54.000   \n",
       "3      2.00  2017-01-02 14:34:17.000  2017-01-02 14:39:29.000   \n",
       "4      1.00  2017-01-03 06:12:30.000  2017-01-03 06:15:56.000   \n",
       "\n",
       "  store_and_fwd_flag     RatecodeID  PULocationID  DOLocationID  \\\n",
       "0                  N  Standard rate            74            41   \n",
       "1                  N  Standard rate            42            41   \n",
       "2                  N  Standard rate            42            41   \n",
       "3                  N  Standard rate            74            41   \n",
       "4                  N  Standard rate            42            41   \n",
       "\n",
       "   passenger_count  trip_distance  fare_amount  extra  mta_tax  tip_amount  \\\n",
       "0             1.00           0.70         5.00   0.00     0.50        0.00   \n",
       "1             1.00           0.70         5.00   0.00     0.50        0.00   \n",
       "2             1.00           0.70         5.00   0.00     0.50        0.00   \n",
       "3             1.00           0.70         5.00   0.00     0.50        0.00   \n",
       "4             1.00           0.70         5.00   0.00     0.50        0.00   \n",
       "\n",
       "   tolls_amount  improvement_surcharge  total_amount payment_type  \\\n",
       "0          0.00                   0.30          5.80         Cash   \n",
       "1          0.00                   0.30          5.80         Cash   \n",
       "2          0.00                   0.30          5.80         Cash   \n",
       "3          0.00                   0.30          5.80         Cash   \n",
       "4          0.00                   0.30          5.80         Cash   \n",
       "\n",
       "     trip_type  congestion_surcharge  \n",
       "0  Street-hail                   NaN  \n",
       "1  Street-hail                   NaN  \n",
       "2  Street-hail                   NaN  \n",
       "3  Street-hail                   NaN  \n",
       "4  Street-hail                   NaN  "
      ]
     },
     "execution_count": 19,
     "metadata": {},
     "output_type": "execute_result"
    }
   ],
   "source": [
    "big_frame.head(5)"
   ]
  },
  {
   "cell_type": "code",
   "execution_count": 20,
   "id": "3a307dee",
   "metadata": {},
   "outputs": [],
   "source": [
    "# Before we can manipulate the date columns, we need to turn them from general objects to a datetime objects\n",
    "big_frame['lpep_dropoff_datetime'] = pd.to_datetime(big_frame['lpep_dropoff_datetime'])\n",
    "big_frame['lpep_pickup_datetime'] = pd.to_datetime(big_frame['lpep_pickup_datetime'])"
   ]
  },
  {
   "cell_type": "code",
   "execution_count": 21,
   "id": "86f249cf",
   "metadata": {},
   "outputs": [],
   "source": [
    "big_frame['Week'] = big_frame['lpep_dropoff_datetime'].dt.isocalendar().week"
   ]
  },
  {
   "cell_type": "code",
   "execution_count": 22,
   "id": "7fdb117d",
   "metadata": {},
   "outputs": [
    {
     "data": {
      "text/plain": [
       "513409.58490566036"
      ]
     },
     "execution_count": 22,
     "metadata": {},
     "output_type": "execute_result"
    }
   ],
   "source": [
    "#Looking at the weekly average\n",
    "big_frame['Week'] = big_frame['lpep_dropoff_datetime'].dt.isocalendar().week\n",
    "big_frame.groupby('Week').size().mean()"
   ]
  },
  {
   "cell_type": "code",
   "execution_count": 23,
   "id": "319b3dcf",
   "metadata": {},
   "outputs": [
    {
     "data": {
      "text/plain": [
       "2.8071964283331035"
      ]
     },
     "execution_count": 23,
     "metadata": {},
     "output_type": "execute_result"
    }
   ],
   "source": [
    "#Average distance travelled per trip\n",
    "big_frame['trip_distance'].mean()"
   ]
  },
  {
   "cell_type": "code",
   "execution_count": 24,
   "id": "70450e1d",
   "metadata": {},
   "outputs": [
    {
     "data": {
      "text/plain": [
       "dow\n",
       "Saturday     4375738\n",
       "Friday       4322435\n",
       "Thursday     3944218\n",
       "Wednesday    3784095\n",
       "Sunday       3697739\n",
       "Tuesday      3615650\n",
       "Monday       3470833\n",
       "dtype: int64"
      ]
     },
     "execution_count": 24,
     "metadata": {},
     "output_type": "execute_result"
    }
   ],
   "source": [
    "#As you can see the busiest days of the week are Friday and Saturday, which makes sense since people are more likely to take trips \n",
    "big_frame['dow'] = big_frame['lpep_dropoff_datetime'].dt.dayofweek\n",
    "big_frame['dow'] = big_frame['dow'].astype('category').cat.rename_categories({0:'Monday',1:'Tuesday',2:'Wednesday',3:'Thursday',4:'Friday',5:'Saturday',6:'Sunday'})\n",
    "big_frame.groupby('dow').size().sort_values(ascending=False)"
   ]
  },
  {
   "cell_type": "code",
   "execution_count": 25,
   "id": "05dd91b3-a003-4359-9114-595629c807f3",
   "metadata": {},
   "outputs": [
    {
     "data": {
      "text/plain": [
       "hour\n",
       "18    1946386\n",
       "19    1849258\n",
       "17    1770511\n",
       "16    1636882\n",
       "20    1560348\n",
       "15    1516400\n",
       "21    1401226\n",
       "14    1364135\n",
       "9     1343365\n",
       "10    1309137\n",
       "12    1285394\n",
       "22    1282621\n",
       "13    1273260\n",
       "11    1267308\n",
       "23    1153482\n",
       "8     1132658\n",
       "0      966603\n",
       "1      693216\n",
       "7      684220\n",
       "2      493781\n",
       "3      375288\n",
       "4      337070\n",
       "6      328854\n",
       "5      239305\n",
       "dtype: int64"
      ]
     },
     "execution_count": 25,
     "metadata": {},
     "output_type": "execute_result"
    }
   ],
   "source": [
    "#The busiest hours of the day are around evening time from 5-7pm, this may be due to people taking taxis home from work or going into the city after work\n",
    "big_frame['hour'] = big_frame['lpep_dropoff_datetime'].dt.hour\n",
    "big_frame.groupby('hour').size().sort_values(ascending=False)"
   ]
  },
  {
   "cell_type": "code",
   "execution_count": 26,
   "id": "64268753-fa21-4421-964e-eb849738aeb1",
   "metadata": {},
   "outputs": [
    {
     "data": {
      "text/plain": [
       "PULocationID\n",
       "74     1862801\n",
       "75     1597816\n",
       "41     1557466\n",
       "7      1281744\n",
       "82     1189977\n",
       "        ...   \n",
       "84          12\n",
       "204         11\n",
       "12           9\n",
       "99           5\n",
       "199          1\n",
       "Length: 261, dtype: int64"
      ]
     },
     "execution_count": 26,
     "metadata": {},
     "output_type": "execute_result"
    }
   ],
   "source": [
    "#Most popular pick up locations\n",
    "big_frame.groupby('PULocationID').size().sort_values(ascending=False)"
   ]
  },
  {
   "cell_type": "code",
   "execution_count": 27,
   "id": "09071e93-e69b-41dc-a22d-c19fab3390f8",
   "metadata": {},
   "outputs": [
    {
     "data": {
      "text/plain": [
       "DOLocationID\n",
       "74     974758\n",
       "42     941596\n",
       "41     840491\n",
       "7      802970\n",
       "129    738791\n",
       "        ...  \n",
       "84         45\n",
       "204        23\n",
       "99         15\n",
       "105         7\n",
       "110         1\n",
       "Length: 262, dtype: int64"
      ]
     },
     "execution_count": 27,
     "metadata": {},
     "output_type": "execute_result"
    }
   ],
   "source": [
    "#Most popular drop off locations\n",
    "big_frame.groupby('DOLocationID').size().sort_values(ascending=False)"
   ]
  },
  {
   "cell_type": "code",
   "execution_count": 28,
   "id": "444abdd6-ba9e-430c-853c-85d63d9a86a6",
   "metadata": {},
   "outputs": [
    {
     "data": {
      "text/plain": [
       "Credit Card    14183683\n",
       "Cash           12109752\n",
       "No Charge         67763\n",
       "Dispute           39930\n",
       "Unknown             922\n",
       "Name: payment_type, dtype: int64"
      ]
     },
     "execution_count": 28,
     "metadata": {},
     "output_type": "execute_result"
    }
   ],
   "source": [
    "#Lets predict what factors affect the odds of getting a tip, since cash tips are not counted in the dataset, lets see how many of the payments are done in cash\n",
    "big_frame['payment_type'].value_counts()"
   ]
  },
  {
   "cell_type": "code",
   "execution_count": 29,
   "id": "b7a7f1d3-814c-40de-85fc-a1849e1f4a46",
   "metadata": {},
   "outputs": [
    {
     "data": {
      "text/html": [
       "<div>\n",
       "<style scoped>\n",
       "    .dataframe tbody tr th:only-of-type {\n",
       "        vertical-align: middle;\n",
       "    }\n",
       "\n",
       "    .dataframe tbody tr th {\n",
       "        vertical-align: top;\n",
       "    }\n",
       "\n",
       "    .dataframe thead th {\n",
       "        text-align: right;\n",
       "    }\n",
       "</style>\n",
       "<table border=\"1\" class=\"dataframe\">\n",
       "  <thead>\n",
       "    <tr style=\"text-align: right;\">\n",
       "      <th></th>\n",
       "      <th>VendorID</th>\n",
       "      <th>lpep_pickup_datetime</th>\n",
       "      <th>lpep_dropoff_datetime</th>\n",
       "      <th>store_and_fwd_flag</th>\n",
       "      <th>RatecodeID</th>\n",
       "      <th>PULocationID</th>\n",
       "      <th>DOLocationID</th>\n",
       "      <th>passenger_count</th>\n",
       "      <th>trip_distance</th>\n",
       "      <th>fare_amount</th>\n",
       "      <th>...</th>\n",
       "      <th>tip_amount</th>\n",
       "      <th>tolls_amount</th>\n",
       "      <th>improvement_surcharge</th>\n",
       "      <th>total_amount</th>\n",
       "      <th>payment_type</th>\n",
       "      <th>trip_type</th>\n",
       "      <th>congestion_surcharge</th>\n",
       "      <th>Week</th>\n",
       "      <th>dow</th>\n",
       "      <th>hour</th>\n",
       "    </tr>\n",
       "  </thead>\n",
       "  <tbody>\n",
       "    <tr>\n",
       "      <th>14529942</th>\n",
       "      <td>1.00</td>\n",
       "      <td>2018-03-18 15:27:49</td>\n",
       "      <td>2018-03-18 16:45:17</td>\n",
       "      <td>N</td>\n",
       "      <td>Standard rate</td>\n",
       "      <td>85</td>\n",
       "      <td>85</td>\n",
       "      <td>1.00</td>\n",
       "      <td>10.30</td>\n",
       "      <td>26.49</td>\n",
       "      <td>...</td>\n",
       "      <td>4.09</td>\n",
       "      <td>0.00</td>\n",
       "      <td>0.30</td>\n",
       "      <td>31.38</td>\n",
       "      <td>Cash</td>\n",
       "      <td>Street-hail</td>\n",
       "      <td>NaN</td>\n",
       "      <td>11</td>\n",
       "      <td>Sunday</td>\n",
       "      <td>16</td>\n",
       "    </tr>\n",
       "    <tr>\n",
       "      <th>21171175</th>\n",
       "      <td>1.00</td>\n",
       "      <td>2019-05-20 19:11:45</td>\n",
       "      <td>2019-05-20 19:26:51</td>\n",
       "      <td>N</td>\n",
       "      <td>Standard rate</td>\n",
       "      <td>75</td>\n",
       "      <td>238</td>\n",
       "      <td>3.00</td>\n",
       "      <td>2.50</td>\n",
       "      <td>12.00</td>\n",
       "      <td>...</td>\n",
       "      <td>1.66</td>\n",
       "      <td>0.00</td>\n",
       "      <td>0.30</td>\n",
       "      <td>18.21</td>\n",
       "      <td>Cash</td>\n",
       "      <td>Street-hail</td>\n",
       "      <td>2.75</td>\n",
       "      <td>21</td>\n",
       "      <td>Monday</td>\n",
       "      <td>19</td>\n",
       "    </tr>\n",
       "    <tr>\n",
       "      <th>21224270</th>\n",
       "      <td>1.00</td>\n",
       "      <td>2019-04-17 07:39:47</td>\n",
       "      <td>2019-04-17 08:12:21</td>\n",
       "      <td>N</td>\n",
       "      <td>Standard rate</td>\n",
       "      <td>41</td>\n",
       "      <td>164</td>\n",
       "      <td>1.00</td>\n",
       "      <td>4.60</td>\n",
       "      <td>21.50</td>\n",
       "      <td>...</td>\n",
       "      <td>3.76</td>\n",
       "      <td>0.00</td>\n",
       "      <td>0.30</td>\n",
       "      <td>28.81</td>\n",
       "      <td>Cash</td>\n",
       "      <td>Street-hail</td>\n",
       "      <td>2.75</td>\n",
       "      <td>16</td>\n",
       "      <td>Wednesday</td>\n",
       "      <td>8</td>\n",
       "    </tr>\n",
       "    <tr>\n",
       "      <th>21224271</th>\n",
       "      <td>1.00</td>\n",
       "      <td>2019-04-19 06:58:19</td>\n",
       "      <td>2019-04-19 07:18:44</td>\n",
       "      <td>N</td>\n",
       "      <td>Standard rate</td>\n",
       "      <td>42</td>\n",
       "      <td>48</td>\n",
       "      <td>1.00</td>\n",
       "      <td>5.00</td>\n",
       "      <td>18.50</td>\n",
       "      <td>...</td>\n",
       "      <td>4.41</td>\n",
       "      <td>0.00</td>\n",
       "      <td>0.30</td>\n",
       "      <td>26.46</td>\n",
       "      <td>Cash</td>\n",
       "      <td>Street-hail</td>\n",
       "      <td>2.75</td>\n",
       "      <td>16</td>\n",
       "      <td>Friday</td>\n",
       "      <td>7</td>\n",
       "    </tr>\n",
       "    <tr>\n",
       "      <th>21224272</th>\n",
       "      <td>1.00</td>\n",
       "      <td>2019-04-21 11:44:08</td>\n",
       "      <td>2019-04-21 11:52:24</td>\n",
       "      <td>N</td>\n",
       "      <td>Standard rate</td>\n",
       "      <td>49</td>\n",
       "      <td>97</td>\n",
       "      <td>1.00</td>\n",
       "      <td>1.60</td>\n",
       "      <td>8.00</td>\n",
       "      <td>...</td>\n",
       "      <td>0.88</td>\n",
       "      <td>0.00</td>\n",
       "      <td>0.30</td>\n",
       "      <td>9.68</td>\n",
       "      <td>Cash</td>\n",
       "      <td>Street-hail</td>\n",
       "      <td>0.00</td>\n",
       "      <td>16</td>\n",
       "      <td>Sunday</td>\n",
       "      <td>11</td>\n",
       "    </tr>\n",
       "    <tr>\n",
       "      <th>...</th>\n",
       "      <td>...</td>\n",
       "      <td>...</td>\n",
       "      <td>...</td>\n",
       "      <td>...</td>\n",
       "      <td>...</td>\n",
       "      <td>...</td>\n",
       "      <td>...</td>\n",
       "      <td>...</td>\n",
       "      <td>...</td>\n",
       "      <td>...</td>\n",
       "      <td>...</td>\n",
       "      <td>...</td>\n",
       "      <td>...</td>\n",
       "      <td>...</td>\n",
       "      <td>...</td>\n",
       "      <td>...</td>\n",
       "      <td>...</td>\n",
       "      <td>...</td>\n",
       "      <td>...</td>\n",
       "      <td>...</td>\n",
       "      <td>...</td>\n",
       "    </tr>\n",
       "    <tr>\n",
       "      <th>27630530</th>\n",
       "      <td>1.00</td>\n",
       "      <td>2020-02-03 12:57:47</td>\n",
       "      <td>2020-02-03 12:59:17</td>\n",
       "      <td>N</td>\n",
       "      <td>Standard rate</td>\n",
       "      <td>149</td>\n",
       "      <td>165</td>\n",
       "      <td>1.00</td>\n",
       "      <td>0.70</td>\n",
       "      <td>4.00</td>\n",
       "      <td>...</td>\n",
       "      <td>0.79</td>\n",
       "      <td>0.00</td>\n",
       "      <td>0.30</td>\n",
       "      <td>6.09</td>\n",
       "      <td>Cash</td>\n",
       "      <td>Street-hail</td>\n",
       "      <td>0.00</td>\n",
       "      <td>6</td>\n",
       "      <td>Monday</td>\n",
       "      <td>12</td>\n",
       "    </tr>\n",
       "    <tr>\n",
       "      <th>27777175</th>\n",
       "      <td>1.00</td>\n",
       "      <td>2020-01-25 18:45:20</td>\n",
       "      <td>2020-01-25 19:04:37</td>\n",
       "      <td>N</td>\n",
       "      <td>Standard rate</td>\n",
       "      <td>61</td>\n",
       "      <td>227</td>\n",
       "      <td>1.00</td>\n",
       "      <td>3.90</td>\n",
       "      <td>16.00</td>\n",
       "      <td>...</td>\n",
       "      <td>2.52</td>\n",
       "      <td>0.00</td>\n",
       "      <td>0.30</td>\n",
       "      <td>19.32</td>\n",
       "      <td>Cash</td>\n",
       "      <td>Street-hail</td>\n",
       "      <td>0.00</td>\n",
       "      <td>4</td>\n",
       "      <td>Saturday</td>\n",
       "      <td>19</td>\n",
       "    </tr>\n",
       "    <tr>\n",
       "      <th>27777177</th>\n",
       "      <td>1.00</td>\n",
       "      <td>2020-03-11 12:33:43</td>\n",
       "      <td>2020-03-11 12:45:39</td>\n",
       "      <td>N</td>\n",
       "      <td>Standard rate</td>\n",
       "      <td>42</td>\n",
       "      <td>69</td>\n",
       "      <td>1.00</td>\n",
       "      <td>2.10</td>\n",
       "      <td>10.00</td>\n",
       "      <td>...</td>\n",
       "      <td>1.08</td>\n",
       "      <td>0.00</td>\n",
       "      <td>0.30</td>\n",
       "      <td>11.88</td>\n",
       "      <td>Cash</td>\n",
       "      <td>Street-hail</td>\n",
       "      <td>0.00</td>\n",
       "      <td>11</td>\n",
       "      <td>Wednesday</td>\n",
       "      <td>12</td>\n",
       "    </tr>\n",
       "    <tr>\n",
       "      <th>27777180</th>\n",
       "      <td>1.00</td>\n",
       "      <td>2020-03-13 15:45:43</td>\n",
       "      <td>2020-03-13 15:56:50</td>\n",
       "      <td>N</td>\n",
       "      <td>Standard rate</td>\n",
       "      <td>166</td>\n",
       "      <td>236</td>\n",
       "      <td>1.00</td>\n",
       "      <td>1.70</td>\n",
       "      <td>9.50</td>\n",
       "      <td>...</td>\n",
       "      <td>2.06</td>\n",
       "      <td>0.00</td>\n",
       "      <td>0.30</td>\n",
       "      <td>12.36</td>\n",
       "      <td>Cash</td>\n",
       "      <td>Street-hail</td>\n",
       "      <td>0.00</td>\n",
       "      <td>11</td>\n",
       "      <td>Friday</td>\n",
       "      <td>15</td>\n",
       "    </tr>\n",
       "    <tr>\n",
       "      <th>27777181</th>\n",
       "      <td>1.00</td>\n",
       "      <td>2020-05-28 09:35:21</td>\n",
       "      <td>2020-05-28 09:45:39</td>\n",
       "      <td>N</td>\n",
       "      <td>Standard rate</td>\n",
       "      <td>74</td>\n",
       "      <td>24</td>\n",
       "      <td>1.00</td>\n",
       "      <td>2.00</td>\n",
       "      <td>9.00</td>\n",
       "      <td>...</td>\n",
       "      <td>1.95</td>\n",
       "      <td>0.00</td>\n",
       "      <td>0.30</td>\n",
       "      <td>11.75</td>\n",
       "      <td>Cash</td>\n",
       "      <td>Street-hail</td>\n",
       "      <td>0.00</td>\n",
       "      <td>22</td>\n",
       "      <td>Thursday</td>\n",
       "      <td>9</td>\n",
       "    </tr>\n",
       "  </tbody>\n",
       "</table>\n",
       "<p>95 rows × 22 columns</p>\n",
       "</div>"
      ],
      "text/plain": [
       "          VendorID lpep_pickup_datetime lpep_dropoff_datetime  \\\n",
       "14529942      1.00  2018-03-18 15:27:49   2018-03-18 16:45:17   \n",
       "21171175      1.00  2019-05-20 19:11:45   2019-05-20 19:26:51   \n",
       "21224270      1.00  2019-04-17 07:39:47   2019-04-17 08:12:21   \n",
       "21224271      1.00  2019-04-19 06:58:19   2019-04-19 07:18:44   \n",
       "21224272      1.00  2019-04-21 11:44:08   2019-04-21 11:52:24   \n",
       "...            ...                  ...                   ...   \n",
       "27630530      1.00  2020-02-03 12:57:47   2020-02-03 12:59:17   \n",
       "27777175      1.00  2020-01-25 18:45:20   2020-01-25 19:04:37   \n",
       "27777177      1.00  2020-03-11 12:33:43   2020-03-11 12:45:39   \n",
       "27777180      1.00  2020-03-13 15:45:43   2020-03-13 15:56:50   \n",
       "27777181      1.00  2020-05-28 09:35:21   2020-05-28 09:45:39   \n",
       "\n",
       "         store_and_fwd_flag     RatecodeID  PULocationID  DOLocationID  \\\n",
       "14529942                  N  Standard rate            85            85   \n",
       "21171175                  N  Standard rate            75           238   \n",
       "21224270                  N  Standard rate            41           164   \n",
       "21224271                  N  Standard rate            42            48   \n",
       "21224272                  N  Standard rate            49            97   \n",
       "...                     ...            ...           ...           ...   \n",
       "27630530                  N  Standard rate           149           165   \n",
       "27777175                  N  Standard rate            61           227   \n",
       "27777177                  N  Standard rate            42            69   \n",
       "27777180                  N  Standard rate           166           236   \n",
       "27777181                  N  Standard rate            74            24   \n",
       "\n",
       "          passenger_count  trip_distance  fare_amount  ...  tip_amount  \\\n",
       "14529942             1.00          10.30        26.49  ...        4.09   \n",
       "21171175             3.00           2.50        12.00  ...        1.66   \n",
       "21224270             1.00           4.60        21.50  ...        3.76   \n",
       "21224271             1.00           5.00        18.50  ...        4.41   \n",
       "21224272             1.00           1.60         8.00  ...        0.88   \n",
       "...                   ...            ...          ...  ...         ...   \n",
       "27630530             1.00           0.70         4.00  ...        0.79   \n",
       "27777175             1.00           3.90        16.00  ...        2.52   \n",
       "27777177             1.00           2.10        10.00  ...        1.08   \n",
       "27777180             1.00           1.70         9.50  ...        2.06   \n",
       "27777181             1.00           2.00         9.00  ...        1.95   \n",
       "\n",
       "          tolls_amount  improvement_surcharge  total_amount  payment_type  \\\n",
       "14529942          0.00                   0.30         31.38          Cash   \n",
       "21171175          0.00                   0.30         18.21          Cash   \n",
       "21224270          0.00                   0.30         28.81          Cash   \n",
       "21224271          0.00                   0.30         26.46          Cash   \n",
       "21224272          0.00                   0.30          9.68          Cash   \n",
       "...                ...                    ...           ...           ...   \n",
       "27630530          0.00                   0.30          6.09          Cash   \n",
       "27777175          0.00                   0.30         19.32          Cash   \n",
       "27777177          0.00                   0.30         11.88          Cash   \n",
       "27777180          0.00                   0.30         12.36          Cash   \n",
       "27777181          0.00                   0.30         11.75          Cash   \n",
       "\n",
       "            trip_type congestion_surcharge Week        dow  hour  \n",
       "14529942  Street-hail                  NaN   11     Sunday    16  \n",
       "21171175  Street-hail                 2.75   21     Monday    19  \n",
       "21224270  Street-hail                 2.75   16  Wednesday     8  \n",
       "21224271  Street-hail                 2.75   16     Friday     7  \n",
       "21224272  Street-hail                 0.00   16     Sunday    11  \n",
       "...               ...                  ...  ...        ...   ...  \n",
       "27630530  Street-hail                 0.00    6     Monday    12  \n",
       "27777175  Street-hail                 0.00    4   Saturday    19  \n",
       "27777177  Street-hail                 0.00   11  Wednesday    12  \n",
       "27777180  Street-hail                 0.00   11     Friday    15  \n",
       "27777181  Street-hail                 0.00   22   Thursday     9  \n",
       "\n",
       "[95 rows x 22 columns]"
      ]
     },
     "execution_count": 29,
     "metadata": {},
     "output_type": "execute_result"
    }
   ],
   "source": [
    "#As seen, very few tips are recorded when the payment type is Cash, so lets exclude cash payments from the training set as this may bias our results\n",
    "big_frame[(big_frame['payment_type']=='Cash') & (big_frame['tip_amount'] > 0 )]"
   ]
  },
  {
   "cell_type": "code",
   "execution_count": 30,
   "id": "b363d544-e9e0-4dea-94df-20e976c365a1",
   "metadata": {},
   "outputs": [],
   "source": [
    "#For this purpose, lets only look at the subset of the data where a Credit Card was used as payment method\n",
    "big_framec = big_frame[big_frame['payment_type'] == 'Credit Card']"
   ]
  },
  {
   "cell_type": "code",
   "execution_count": 31,
   "id": "1ff1c7dd-604a-4790-bbb3-237af9e6b441",
   "metadata": {},
   "outputs": [
    {
     "name": "stderr",
     "output_type": "stream",
     "text": [
      "C:\\Users\\awais\\AppData\\Local\\Temp/ipykernel_5252/2615569790.py:1: SettingWithCopyWarning: \n",
      "A value is trying to be set on a copy of a slice from a DataFrame.\n",
      "Try using .loc[row_indexer,col_indexer] = value instead\n",
      "\n",
      "See the caveats in the documentation: https://pandas.pydata.org/pandas-docs/stable/user_guide/indexing.html#returning-a-view-versus-a-copy\n",
      "  big_framec['tip'] = big_framec['tip_amount'].apply(lambda x: 1 if x > 0 else 0)\n"
     ]
    }
   ],
   "source": [
    "big_framec['tip'] = big_framec['tip_amount'].apply(lambda x: 1 if x > 0 else 0)"
   ]
  },
  {
   "cell_type": "code",
   "execution_count": 32,
   "id": "8907aab5-2faf-403e-a84b-8099fbed2178",
   "metadata": {},
   "outputs": [
    {
     "data": {
      "text/plain": [
       "1    10604865\n",
       "0     3578818\n",
       "Name: tip, dtype: int64"
      ]
     },
     "execution_count": 32,
     "metadata": {},
     "output_type": "execute_result"
    }
   ],
   "source": [
    "big_framec['tip'].value_counts()"
   ]
  },
  {
   "cell_type": "code",
   "execution_count": 33,
   "id": "5ddf8dda-018d-4394-9f4c-b87b13b5ff39",
   "metadata": {},
   "outputs": [
    {
     "data": {
      "text/plain": [
       "<AxesSubplot:>"
      ]
     },
     "execution_count": 33,
     "metadata": {},
     "output_type": "execute_result"
    },
    {
     "data": {
      "image/png": "[encoded data removed]",
      "text/plain": [
       "<Figure size 432x288 with 2 Axes>"
      ]
     },
     "metadata": {
      "needs_background": "light"
     },
     "output_type": "display_data"
    }
   ],
   "source": [
    "#As seen in the corr heatmap, trip_distance and fare_amount are highly correlared, which makes sense but it means one of these features would need to be removed from our data\n",
    "sns.heatmap(big_framec[['trip_distance','passenger_count','fare_amount','trip_type','improvement_surcharge']].corr(), cmap='YlGnBu',annot=True)"
   ]
  },
  {
   "cell_type": "code",
   "execution_count": 34,
   "id": "b34d28cf-93c2-41f5-a749-a54235db2033",
   "metadata": {},
   "outputs": [
    {
     "name": "stderr",
     "output_type": "stream",
     "text": [
      "C:\\Users\\awais\\AppData\\Local\\Temp/ipykernel_5252/3672174334.py:2: SettingWithCopyWarning: \n",
      "A value is trying to be set on a copy of a slice from a DataFrame.\n",
      "Try using .loc[row_indexer,col_indexer] = value instead\n",
      "\n",
      "See the caveats in the documentation: https://pandas.pydata.org/pandas-docs/stable/user_guide/indexing.html#returning-a-view-versus-a-copy\n",
      "  big_framec['StreetH'] = big_framec['trip_type'].apply(lambda x: 1 if x == 'Street-hail' else 0)\n",
      "C:\\Users\\awais\\AppData\\Local\\Temp/ipykernel_5252/3672174334.py:3: SettingWithCopyWarning: \n",
      "A value is trying to be set on a copy of a slice from a DataFrame.\n",
      "Try using .loc[row_indexer,col_indexer] = value instead\n",
      "\n",
      "See the caveats in the documentation: https://pandas.pydata.org/pandas-docs/stable/user_guide/indexing.html#returning-a-view-versus-a-copy\n",
      "  big_framec['StreetH'] = big_framec['StreetH'].fillna(0)\n"
     ]
    }
   ],
   "source": [
    "#Turning trip_type into a binary classification for our model and replacing NaN values\n",
    "big_framec['StreetH'] = big_framec['trip_type'].apply(lambda x: 1 if x == 'Street-hail' else 0)\n",
    "big_framec['StreetH'] = big_framec['StreetH'].fillna(0)"
   ]
  },
  {
   "cell_type": "code",
   "execution_count": 35,
   "id": "88967dfe-a91b-4c6d-aa19-d5dc06c06f62",
   "metadata": {},
   "outputs": [
    {
     "name": "stdout",
     "output_type": "stream",
     "text": [
      "Accuracy Score of Logistic Regression is : 0.7627275942661814\n",
      "Confusion Matrix : \n",
      "[[  82259  991402]\n",
      " [  18217 3163227]]\n",
      "Classification Report : \n",
      "              precision    recall  f1-score   support\n",
      "\n",
      "           0       0.82      0.08      0.14   1073661\n",
      "           1       0.76      0.99      0.86   3181444\n",
      "\n",
      "    accuracy                           0.76   4255105\n",
      "   macro avg       0.79      0.54      0.50   4255105\n",
      "weighted avg       0.78      0.76      0.68   4255105\n",
      "\n"
     ]
    }
   ],
   "source": [
    "# A very simple LR model\n",
    "\n",
    "target = big_framec.tip\n",
    "features = big_framec[['passenger_count','trip_distance','improvement_surcharge','StreetH']]\n",
    "\n",
    "X_train, X_test, y_train, y_test = train_test_split(features, target, test_size = 0.30)\n",
    "\n",
    "lr = LogisticRegression()\n",
    "lr.fit(X_train, y_train)\n",
    "\n",
    "y_pred_lr = lr.predict(X_test)\n",
    "\n",
    "acc_lr = metrics.accuracy_score(y_test, y_pred_lr)\n",
    "conf = metrics.confusion_matrix(y_test, y_pred_lr)\n",
    "clf_report = metrics.classification_report(y_test, y_pred_lr)\n",
    "\n",
    "print(f\"Accuracy Score of Logistic Regression is : {acc_lr}\")\n",
    "print(f\"Confusion Matrix : \\n{conf}\")\n",
    "print(f\"Classification Report : \\n{clf_report}\")\n"
   ]
  },
  {
   "cell_type": "code",
   "execution_count": 36,
   "id": "e6dae94a-7313-4e06-bcc0-b8355a5d12dd",
   "metadata": {},
   "outputs": [
    {
     "data": {
      "image/png": "[encoded data removed]",
      "text/plain": [
       "<Figure size 432x288 with 1 Axes>"
      ]
     },
     "metadata": {
      "needs_background": "light"
     },
     "output_type": "display_data"
    }
   ],
   "source": [
    "# ROC Score\n",
    "y_pred_proba = lr.predict_proba(X_test)[::,1]\n",
    "fpr, tpr, _ = metrics.roc_curve(y_test,  y_pred_proba)\n",
    "auc = metrics.roc_auc_score(y_test, y_pred_proba)\n",
    "plt.plot(fpr,tpr,label=\"data 1, auc=\"+str(auc))\n",
    "plt.legend(loc=4)\n",
    "plt.show()"
   ]
  },
  {
   "cell_type": "code",
   "execution_count": 37,
   "id": "8effd6e9-011a-4724-944a-0652a150c14b",
   "metadata": {},
   "outputs": [
    {
     "data": {
      "text/plain": [
       "{'fit_time': array([0.05482841, 0.05585074, 0.0627532 , 0.05884218, 0.05585074]),\n",
       " 'score_time': array([0.00299215, 0.00299191, 0.00299263, 0.00299263, 0.00299215]),\n",
       " 'test_score': array([0.76397959, 0.76607143, 0.76326531, 0.7622449 , 0.76209184])}"
      ]
     },
     "execution_count": 37,
     "metadata": {},
     "output_type": "execute_result"
    }
   ],
   "source": [
    "big_frame_sam = big_framec.sample(n=140000)\n",
    "feature_sample = big_frame_sam[['passenger_count','trip_distance','improvement_surcharge','StreetH']]\n",
    "target_sample = big_frame_sam.tip\n",
    "X_train, X_test, y_train, y_test = train_test_split(feature_sample, target_sample, test_size = 0.30)\n",
    "pipeline = Pipeline([\n",
    "    ('normalizer', StandardScaler()), #Step1 - normalize data\n",
    "    ('clf', LogisticRegression()) #step2 - classifier\n",
    "])\n",
    "pipeline.steps\n",
    "from sklearn.model_selection import cross_validate\n",
    "\n",
    "scores = cross_validate(pipeline, X_train, y_train)\n",
    "scores"
   ]
  },
  {
   "cell_type": "code",
   "execution_count": 38,
   "id": "a6fe190f-172a-4a4d-966f-a54beb79ca5f",
   "metadata": {},
   "outputs": [
    {
     "name": "stdout",
     "output_type": "stream",
     "text": [
      "---------------------------------\n",
      "SVC()\n",
      "-----------------------------------\n",
      "fit_time  mean  222.6214303970337\n",
      "fit_time  std  29.772101662216755\n",
      "score_time  mean  42.8565279006958\n",
      "score_time  std  0.39909213806299315\n",
      "test_score  mean  0.763326530612245\n",
      "test_score  std  0.0013649842517395043\n",
      "---------------------------------\n",
      "KNeighborsClassifier(n_neighbors=3)\n",
      "-----------------------------------\n",
      "fit_time  mean  2.7016648292541503\n",
      "fit_time  std  0.029615260538562713\n",
      "score_time  mean  1.3090702533721923\n",
      "score_time  std  0.014620595694234175\n",
      "test_score  mean  0.7071530612244897\n",
      "test_score  std  0.003578477009747018\n",
      "---------------------------------\n",
      "DecisionTreeClassifier()\n",
      "-----------------------------------\n",
      "fit_time  mean  0.06100521087646484\n",
      "fit_time  std  0.005712745856633534\n",
      "score_time  mean  0.0040626049041748045\n",
      "score_time  std  0.00014557998530147687\n",
      "test_score  mean  0.7485102040816326\n",
      "test_score  std  0.0014254338722934766\n",
      "---------------------------------\n",
      "RandomForestClassifier()\n",
      "-----------------------------------\n",
      "fit_time  mean  3.821566867828369\n",
      "fit_time  std  0.11604723120106568\n",
      "score_time  mean  0.24667510986328126\n",
      "score_time  std  0.005407351393307999\n",
      "test_score  mean  0.7528061224489797\n",
      "test_score  std  0.0007884262764114772\n",
      "---------------------------------\n",
      "GradientBoostingClassifier()\n",
      "-----------------------------------\n",
      "fit_time  mean  1.6098393440246581\n",
      "fit_time  std  0.0286046230646788\n",
      "score_time  mean  0.0171968936920166\n",
      "score_time  std  0.0021344118381091746\n",
      "test_score  mean  0.7634897959183673\n",
      "test_score  std  0.0015102730265563967\n"
     ]
    }
   ],
   "source": [
    "# We will try the following classifiers in the pipeline LogisticRegression, Support Vector Machines - linear and rbf, K-nearest Classifier, Decision Tree Classifier, Gradient Bossting Classifier\n",
    "# Looks like SVC is the best classifier\n",
    "clfs = []\n",
    "clfs.append(SVC())\n",
    "clfs.append(KNeighborsClassifier(n_neighbors=3))\n",
    "clfs.append(DecisionTreeClassifier())\n",
    "clfs.append(RandomForestClassifier())\n",
    "clfs.append(GradientBoostingClassifier())\n",
    "\n",
    "for classifier in clfs:\n",
    "    pipeline.set_params(clf = classifier)\n",
    "    scores = cross_validate(pipeline, X_train, y_train)\n",
    "    print('---------------------------------')\n",
    "    print(str(classifier))\n",
    "    print('-----------------------------------')\n",
    "    for key, values in scores.items():\n",
    "            print(key,' mean ', values.mean())\n",
    "            print(key,' std ', values.std())"
   ]
  },
  {
   "cell_type": "code",
   "execution_count": 39,
   "id": "7c9bc846-525e-4724-86dd-b0fdd1ce3d16",
   "metadata": {},
   "outputs": [
    {
     "data": {
      "text/plain": [
       "[('normalizer', StandardScaler()), ('clf', SVC())]"
      ]
     },
     "execution_count": 39,
     "metadata": {},
     "output_type": "execute_result"
    }
   ],
   "source": [
    "#Lets optimise our SVC hypterparameters using GridSearchCV\n",
    "from sklearn.model_selection import GridSearchCV\n",
    "pipeline.set_params(clf= SVC())\n",
    "pipeline.steps"
   ]
  },
  {
   "cell_type": "code",
   "execution_count": 40,
   "id": "578a06fc-6732-4b6f-ad3d-509efa97c998",
   "metadata": {},
   "outputs": [
    {
     "data": {
      "text/plain": [
       "GridSearchCV(estimator=Pipeline(steps=[('normalizer', StandardScaler()),\n",
       "                                       ('clf', SVC())]),\n",
       "             param_grid={'clf__C': array([0.1, 0.2, 0.3, 0.4, 0.5, 0.6, 0.7, 0.8, 0.9, 1. , 1.1, 1.2]),\n",
       "                         'clf__kernel': ['linear', 'rbf']})"
      ]
     },
     "execution_count": 40,
     "metadata": {},
     "output_type": "execute_result"
    }
   ],
   "source": [
    "cv_grid = GridSearchCV(pipeline, param_grid = {\n",
    "    'clf__kernel' : ['linear', 'rbf'],\n",
    "    'clf__C' : np.linspace(0.1,1.2,12)\n",
    "})\n",
    "\n",
    "cv_grid.fit(X_train, y_train)"
   ]
  },
  {
   "cell_type": "code",
   "execution_count": 41,
   "id": "9956fb74-480a-4525-b01a-5c0e57151f2e",
   "metadata": {},
   "outputs": [
    {
     "data": {
      "text/plain": [
       "{'clf__C': 0.2, 'clf__kernel': 'rbf'}"
      ]
     },
     "execution_count": 41,
     "metadata": {},
     "output_type": "execute_result"
    }
   ],
   "source": [
    "cv_grid.best_params_"
   ]
  },
  {
   "cell_type": "code",
   "execution_count": 42,
   "id": "468d7c63-6c40-40e2-8495-a11d8f840d03",
   "metadata": {},
   "outputs": [
    {
     "data": {
      "text/plain": [
       "{'mean_fit_time': array([ 69.566014  , 180.55391464,  74.21313334, 188.18034201,\n",
       "         74.78583126, 194.6967545 ,  66.33060431, 212.53113861,\n",
       "         65.27194524, 226.32591624,  67.00009365, 231.16043777,\n",
       "         64.2748837 , 211.67399802,  64.83310485, 208.87264194,\n",
       "         72.46104317, 208.69276128,  64.99092779, 217.97477784,\n",
       "         72.03968167, 234.48948102,  68.4957211 , 233.85989132]),\n",
       " 'std_fit_time': array([ 1.25655798, 17.42042937,  2.64879602, 34.45959044,  1.77517748,\n",
       "        24.52615202,  6.52874393, 24.91971548,  8.73010144, 42.04077184,\n",
       "         7.78097271, 54.90991359,  6.50577682, 20.82132599,  6.32012194,\n",
       "        37.7146229 ,  6.77408743, 36.80777445,  6.37572064, 51.70876443,\n",
       "         9.24808324, 40.30246061, 10.5888046 , 44.97113905]),\n",
       " 'mean_score_time': array([10.8992178 , 43.72803535, 11.57901764, 44.98896327, 11.59451041,\n",
       "        44.33063884, 11.04810796, 44.69292936, 11.34885588, 45.35587773,\n",
       "        11.43633461, 43.15008492, 10.7126111 , 44.38728271, 10.9020093 ,\n",
       "        44.49671645, 11.10003295, 43.16979618, 10.86695385, 42.98818202,\n",
       "        10.78064432, 43.38064828, 10.86146784, 43.03852763]),\n",
       " 'std_score_time': array([0.07285015, 1.04986909, 0.32026026, 0.93292194, 0.21838576,\n",
       "        0.48833685, 0.25083623, 1.55034388, 0.25668391, 2.00663624,\n",
       "        0.22410231, 0.35560495, 0.02475987, 1.97306299, 0.25915005,\n",
       "        0.95174576, 0.5158117 , 0.29674174, 0.20928476, 0.39175084,\n",
       "        0.13089747, 0.68167477, 0.11902884, 0.22399903]),\n",
       " 'param_clf__C': masked_array(data=[0.1, 0.1, 0.2, 0.2, 0.3, 0.3, 0.4, 0.4, 0.5, 0.5, 0.6,\n",
       "                    0.6, 0.7, 0.7, 0.7999999999999999, 0.7999999999999999,\n",
       "                    0.8999999999999999, 0.8999999999999999,\n",
       "                    0.9999999999999999, 0.9999999999999999,\n",
       "                    1.0999999999999999, 1.0999999999999999, 1.2, 1.2],\n",
       "              mask=[False, False, False, False, False, False, False, False,\n",
       "                    False, False, False, False, False, False, False, False,\n",
       "                    False, False, False, False, False, False, False, False],\n",
       "        fill_value='?',\n",
       "             dtype=object),\n",
       " 'param_clf__kernel': masked_array(data=['linear', 'rbf', 'linear', 'rbf', 'linear', 'rbf',\n",
       "                    'linear', 'rbf', 'linear', 'rbf', 'linear', 'rbf',\n",
       "                    'linear', 'rbf', 'linear', 'rbf', 'linear', 'rbf',\n",
       "                    'linear', 'rbf', 'linear', 'rbf', 'linear', 'rbf'],\n",
       "              mask=[False, False, False, False, False, False, False, False,\n",
       "                    False, False, False, False, False, False, False, False,\n",
       "                    False, False, False, False, False, False, False, False],\n",
       "        fill_value='?',\n",
       "             dtype=object),\n",
       " 'params': [{'clf__C': 0.1, 'clf__kernel': 'linear'},\n",
       "  {'clf__C': 0.1, 'clf__kernel': 'rbf'},\n",
       "  {'clf__C': 0.2, 'clf__kernel': 'linear'},\n",
       "  {'clf__C': 0.2, 'clf__kernel': 'rbf'},\n",
       "  {'clf__C': 0.3, 'clf__kernel': 'linear'},\n",
       "  {'clf__C': 0.3, 'clf__kernel': 'rbf'},\n",
       "  {'clf__C': 0.4, 'clf__kernel': 'linear'},\n",
       "  {'clf__C': 0.4, 'clf__kernel': 'rbf'},\n",
       "  {'clf__C': 0.5, 'clf__kernel': 'linear'},\n",
       "  {'clf__C': 0.5, 'clf__kernel': 'rbf'},\n",
       "  {'clf__C': 0.6, 'clf__kernel': 'linear'},\n",
       "  {'clf__C': 0.6, 'clf__kernel': 'rbf'},\n",
       "  {'clf__C': 0.7, 'clf__kernel': 'linear'},\n",
       "  {'clf__C': 0.7, 'clf__kernel': 'rbf'},\n",
       "  {'clf__C': 0.7999999999999999, 'clf__kernel': 'linear'},\n",
       "  {'clf__C': 0.7999999999999999, 'clf__kernel': 'rbf'},\n",
       "  {'clf__C': 0.8999999999999999, 'clf__kernel': 'linear'},\n",
       "  {'clf__C': 0.8999999999999999, 'clf__kernel': 'rbf'},\n",
       "  {'clf__C': 0.9999999999999999, 'clf__kernel': 'linear'},\n",
       "  {'clf__C': 0.9999999999999999, 'clf__kernel': 'rbf'},\n",
       "  {'clf__C': 1.0999999999999999, 'clf__kernel': 'linear'},\n",
       "  {'clf__C': 1.0999999999999999, 'clf__kernel': 'rbf'},\n",
       "  {'clf__C': 1.2, 'clf__kernel': 'linear'},\n",
       "  {'clf__C': 1.2, 'clf__kernel': 'rbf'}],\n",
       " 'split0_test_score': array([0.76438776, 0.76454082, 0.76438776, 0.76423469, 0.76438776,\n",
       "        0.76464286, 0.76438776, 0.76459184, 0.76438776, 0.76459184,\n",
       "        0.76438776, 0.7647449 , 0.76438776, 0.76423469, 0.76438776,\n",
       "        0.76418367, 0.76438776, 0.76418367, 0.76438776, 0.76418367,\n",
       "        0.76438776, 0.76408163, 0.76438776, 0.76413265]),\n",
       " 'split1_test_score': array([0.76556122, 0.7655102 , 0.76556122, 0.7655102 , 0.76556122,\n",
       "        0.76545918, 0.76556122, 0.76545918, 0.76556122, 0.76540816,\n",
       "        0.76556122, 0.76540816, 0.76556122, 0.76540816, 0.76556122,\n",
       "        0.76540816, 0.76556122, 0.76545918, 0.76556122, 0.7655102 ,\n",
       "        0.76556122, 0.7655102 , 0.76556122, 0.76545918]),\n",
       " 'split2_test_score': array([0.7630102 , 0.7630102 , 0.7630102 , 0.76326531, 0.7630102 ,\n",
       "        0.76290816, 0.7630102 , 0.76306122, 0.7630102 , 0.7630102 ,\n",
       "        0.7630102 , 0.76311224, 0.7630102 , 0.76311224, 0.7630102 ,\n",
       "        0.76311224, 0.7630102 , 0.76311224, 0.7630102 , 0.76295918,\n",
       "        0.7630102 , 0.76295918, 0.7630102 , 0.76295918]),\n",
       " 'split3_test_score': array([0.76209184, 0.76178571, 0.76209184, 0.76183673, 0.76209184,\n",
       "        0.76193878, 0.76209184, 0.76193878, 0.76209184, 0.7619898 ,\n",
       "        0.76209184, 0.76193878, 0.76209184, 0.7619898 , 0.76209184,\n",
       "        0.7619898 , 0.76209184, 0.76193878, 0.76209184, 0.76193878,\n",
       "        0.76209184, 0.76193878, 0.76209184, 0.76188776]),\n",
       " 'split4_test_score': array([0.76255102, 0.76255102, 0.76255102, 0.76295918, 0.76255102,\n",
       "        0.7622449 , 0.76255102, 0.76229592, 0.76255102, 0.76229592,\n",
       "        0.76255102, 0.7622449 , 0.76255102, 0.7622449 , 0.76255102,\n",
       "        0.7619898 , 0.76255102, 0.7619898 , 0.76255102, 0.7619898 ,\n",
       "        0.76255102, 0.7619898 , 0.76255102, 0.7619898 ]),\n",
       " 'mean_test_score': array([0.76352041, 0.76347959, 0.76352041, 0.76356122, 0.76352041,\n",
       "        0.76343878, 0.76352041, 0.76346939, 0.76352041, 0.76345918,\n",
       "        0.76352041, 0.7634898 , 0.76352041, 0.76339796, 0.76352041,\n",
       "        0.76333673, 0.76352041, 0.76333673, 0.76352041, 0.76331633,\n",
       "        0.76352041, 0.76329592, 0.76352041, 0.76328571]),\n",
       " 'std_test_score': array([0.00127735, 0.00135657, 0.00127735, 0.00123903, 0.00127735,\n",
       "        0.00137759, 0.00127735, 0.00134949, 0.00127735, 0.0013263 ,\n",
       "        0.00127735, 0.00136773, 0.00127735, 0.00127555, 0.00127735,\n",
       "        0.00131811, 0.00127735, 0.0013447 , 0.00127735, 0.0013675 ,\n",
       "        0.00127735, 0.00135511, 0.00127735, 0.00135511]),\n",
       " 'rank_test_score': array([ 2, 15,  2,  1,  2, 18,  2, 16,  2, 17,  2, 14,  2, 19,  2, 20,  2,\n",
       "        20,  2, 22,  2, 23,  2, 24])}"
      ]
     },
     "execution_count": 42,
     "metadata": {},
     "output_type": "execute_result"
    }
   ],
   "source": [
    "cv_grid.cv_results_"
   ]
  },
  {
   "cell_type": "code",
   "execution_count": 43,
   "id": "3258dcc1-dee1-4aa0-af7b-e0c6896e9802",
   "metadata": {},
   "outputs": [
    {
     "data": {
      "text/plain": [
       "0.7635612244897959"
      ]
     },
     "execution_count": 43,
     "metadata": {},
     "output_type": "execute_result"
    }
   ],
   "source": [
    "# This is best score we have achieved, there is still optimisation to be done to get a better score\n",
    "cv_grid.best_score_"
   ]
  },
  {
   "cell_type": "code",
   "execution_count": null,
   "id": "3ed1d533-1917-4a8f-8746-6a3cadc30770",
   "metadata": {},
   "outputs": [],
   "source": []
  }
 ],
 "metadata": {
  "kernelspec": {
   "display_name": "Python 3 (ipykernel)",
   "language": "python",
   "name": "python3"
  },
  "language_info": {
   "codemirror_mode": {
    "name": "ipython",
    "version": 3
   },
   "file_extension": ".py",
   "mimetype": "text/x-python",
   "name": "python",
   "nbconvert_exporter": "python",
   "pygments_lexer": "ipython3",
   "version": "3.9.7"
  }
 },
 "nbformat": 4,
 "nbformat_minor": 5
}
